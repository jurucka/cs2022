{
  "nbformat": 4,
  "nbformat_minor": 0,
  "metadata": {
    "colab": {
      "provenance": []
    },
    "kernelspec": {
      "name": "python3",
      "display_name": "Python 3"
    },
    "language_info": {
      "name": "python"
    }
  },
  "cells": [
    {
      "cell_type": "markdown",
      "source": [
        "**Kun Shan University Computer Science Midterm Exam**"
      ],
      "metadata": {
        "id": "LGn9ecBrMbME"
      }
    },
    {
      "cell_type": "markdown",
      "source": [
        "**Name 尤里卡 4110E212**"
      ],
      "metadata": {
        "id": "2IqqKRRIMfNB"
      }
    },
    {
      "cell_type": "markdown",
      "source": [
        "**4. Unpack a Collection:\n",
        "If you have a collection of values in a list, tuple etc. Python allows you to extract the values into variables**\n",
        "\n",
        "fruits = [\"apple\", \"banana\", \"cherry\"]\n",
        "x, y, z = fruits\n",
        "print(x)\n",
        "What is the output of this code in Python?\n",
        "\n",
        "(A) apple\n",
        "\n",
        "(B) banana\n",
        "\n",
        "(C) cherry\n",
        "\n",
        "(D) [\"apple\", \"banana\", \"cherry\"]"
      ],
      "metadata": {
        "id": "PUORiGydMynw"
      }
    },
    {
      "cell_type": "code",
      "source": [
        "fruits = [\"apple\", \"banana\", \"cherry\"]\n",
        "x, y, z = fruits\n",
        "print(x)"
      ],
      "metadata": {
        "colab": {
          "base_uri": "https://localhost:8080/"
        },
        "id": "ZSOxlGb6M_hz",
        "outputId": "05e18e31-bd78-43da-96ce-c90731184bb4"
      },
      "execution_count": 1,
      "outputs": [
        {
          "output_type": "stream",
          "name": "stdout",
          "text": [
            "apple\n"
          ]
        }
      ]
    },
    {
      "cell_type": "markdown",
      "source": [
        "**ANSWER :(A) apple**"
      ],
      "metadata": {
        "id": "s4K4pyZvNG1A"
      }
    },
    {
      "cell_type": "markdown",
      "source": [
        "**5. Which following is the correct way to create a dictionary in Python?**"
      ],
      "metadata": {
        "id": "QF-isN1NNDi0"
      }
    },
    {
      "cell_type": "markdown",
      "source": [
        "(A) students = { 'name' => 'alice' ;  'score' =>60 }\n",
        "\n",
        "(B) students = { 'name' = 'alice' ;  'score' =60 }\n",
        "\n",
        "(C) students = { 'name' : 'alice' ;  'score' : 60 }\n",
        "\n",
        "(D) students = { 'name' => 'alice' ,  'score' =>60 }\n",
        "\n",
        "(E) students = { 'name' : 'alice' , 'score' : 60 }"
      ],
      "metadata": {
        "id": "lzgmzCmaNQvr"
      }
    },
    {
      "cell_type": "code",
      "source": [
        "students = { 'name' => 'alice' ;  'score' =>60 }"
      ],
      "metadata": {
        "colab": {
          "base_uri": "https://localhost:8080/",
          "height": 131
        },
        "id": "HRzLrNe5NRZ0",
        "outputId": "2a4b5ad5-c4ba-4b33-907f-c869fc459350"
      },
      "execution_count": 2,
      "outputs": [
        {
          "output_type": "error",
          "ename": "SyntaxError",
          "evalue": "ignored",
          "traceback": [
            "\u001b[0;36m  File \u001b[0;32m\"<ipython-input-2-ed12b19b76b9>\"\u001b[0;36m, line \u001b[0;32m1\u001b[0m\n\u001b[0;31m    students = { 'name' => 'alice' ;  'score' =>60 }\u001b[0m\n\u001b[0m                        ^\u001b[0m\n\u001b[0;31mSyntaxError\u001b[0m\u001b[0;31m:\u001b[0m invalid syntax\n"
          ]
        }
      ]
    },
    {
      "cell_type": "code",
      "source": [
        "students = { 'name' = 'alice' ;  'score' =60 }\n"
      ],
      "metadata": {
        "colab": {
          "base_uri": "https://localhost:8080/",
          "height": 131
        },
        "id": "u3rfVbh4NUnQ",
        "outputId": "46640c25-c989-4d88-c0fe-138a27322b02"
      },
      "execution_count": 3,
      "outputs": [
        {
          "output_type": "error",
          "ename": "SyntaxError",
          "evalue": "ignored",
          "traceback": [
            "\u001b[0;36m  File \u001b[0;32m\"<ipython-input-3-2b6d7142b302>\"\u001b[0;36m, line \u001b[0;32m1\u001b[0m\n\u001b[0;31m    students = { 'name' = 'alice' ;  'score' =60 }\u001b[0m\n\u001b[0m                        ^\u001b[0m\n\u001b[0;31mSyntaxError\u001b[0m\u001b[0;31m:\u001b[0m invalid syntax\n"
          ]
        }
      ]
    },
    {
      "cell_type": "code",
      "source": [
        "students = { 'name' : 'alice' ;  'score' : 60 }"
      ],
      "metadata": {
        "colab": {
          "base_uri": "https://localhost:8080/",
          "height": 131
        },
        "id": "OGIMGko2NXFf",
        "outputId": "7e966f58-b4bf-49c0-d229-b559e47bd0b9"
      },
      "execution_count": 4,
      "outputs": [
        {
          "output_type": "error",
          "ename": "SyntaxError",
          "evalue": "ignored",
          "traceback": [
            "\u001b[0;36m  File \u001b[0;32m\"<ipython-input-4-a6c06425b6ca>\"\u001b[0;36m, line \u001b[0;32m1\u001b[0m\n\u001b[0;31m    students = { 'name' : 'alice' ;  'score' : 60 }\u001b[0m\n\u001b[0m                                  ^\u001b[0m\n\u001b[0;31mSyntaxError\u001b[0m\u001b[0;31m:\u001b[0m invalid syntax\n"
          ]
        }
      ]
    },
    {
      "cell_type": "code",
      "source": [
        "students = { 'name' => 'alice' ,  'score' =>60 }"
      ],
      "metadata": {
        "colab": {
          "base_uri": "https://localhost:8080/",
          "height": 131
        },
        "id": "4980SIKXNZjF",
        "outputId": "32e88314-eafc-411c-c0e0-ccae5d8a5441"
      },
      "execution_count": 5,
      "outputs": [
        {
          "output_type": "error",
          "ename": "SyntaxError",
          "evalue": "ignored",
          "traceback": [
            "\u001b[0;36m  File \u001b[0;32m\"<ipython-input-5-57cc8b55d372>\"\u001b[0;36m, line \u001b[0;32m1\u001b[0m\n\u001b[0;31m    students = { 'name' => 'alice' ,  'score' =>60 }\u001b[0m\n\u001b[0m                        ^\u001b[0m\n\u001b[0;31mSyntaxError\u001b[0m\u001b[0;31m:\u001b[0m invalid syntax\n"
          ]
        }
      ]
    },
    {
      "cell_type": "code",
      "source": [
        "students = { 'name' : 'alice' , 'score' : 60 }"
      ],
      "metadata": {
        "id": "eFw4TGhBNcyY"
      },
      "execution_count": 6,
      "outputs": []
    },
    {
      "cell_type": "markdown",
      "source": [
        "**The correct way to create a dictionary in Python\n",
        "ANSWER : (E) students = { 'name' : 'alice' , 'score' : 60 }**"
      ],
      "metadata": {
        "id": "b8QyXyXBNogP"
      }
    },
    {
      "cell_type": "markdown",
      "source": [
        "**6. What is the output of this code in Python?**\n",
        "x = 5\n",
        "y = \"John\"\n",
        "print(x + y) \n",
        "(A) 5 John\n",
        "\n",
        "(B) 5 + John\n",
        "\n",
        "(C) John\n",
        "\n",
        "(D) Python will give you an error"
      ],
      "metadata": {
        "id": "wjV-eaETNwnE"
      }
    },
    {
      "cell_type": "code",
      "source": [
        "X = 5\n",
        "Y = \"John\"\n",
        "print(x + y)"
      ],
      "metadata": {
        "colab": {
          "base_uri": "https://localhost:8080/"
        },
        "id": "olfG5k7eNy5z",
        "outputId": "3796d306-00af-49cc-c94f-dd78aaea1313"
      },
      "execution_count": 7,
      "outputs": [
        {
          "output_type": "stream",
          "name": "stdout",
          "text": [
            "applebanana\n"
          ]
        }
      ]
    },
    {
      "cell_type": "markdown",
      "source": [
        "**ANSWER : (D) Python will give you an error**"
      ],
      "metadata": {
        "id": "XFfbW1rcN8as"
      }
    },
    {
      "cell_type": "markdown",
      "source": [
        "**7. Which one of the following outputs is wrong?**\n",
        "(A)13//5 output: 2.6\n",
        "\n",
        "(B) 13/5 output: 2.6\n",
        "\n",
        "(C)13%5 output:3\n",
        "\n",
        "(D)y = int(2.8) output:2"
      ],
      "metadata": {
        "id": "4j9SfrtSN_7a"
      }
    },
    {
      "cell_type": "code",
      "source": [
        "13//5"
      ],
      "metadata": {
        "colab": {
          "base_uri": "https://localhost:8080/"
        },
        "id": "h2FBR6aPOFDK",
        "outputId": "ca51e121-0ec3-4e9a-c4d6-1898793efd17"
      },
      "execution_count": 8,
      "outputs": [
        {
          "output_type": "execute_result",
          "data": {
            "text/plain": [
              "2"
            ]
          },
          "metadata": {},
          "execution_count": 8
        }
      ]
    },
    {
      "cell_type": "code",
      "source": [
        "13/5"
      ],
      "metadata": {
        "colab": {
          "base_uri": "https://localhost:8080/"
        },
        "id": "XvIhpEuIOHJm",
        "outputId": "25d36856-e807-496b-fae9-14e558b53dd7"
      },
      "execution_count": 9,
      "outputs": [
        {
          "output_type": "execute_result",
          "data": {
            "text/plain": [
              "2.6"
            ]
          },
          "metadata": {},
          "execution_count": 9
        }
      ]
    },
    {
      "cell_type": "code",
      "source": [
        "13%5"
      ],
      "metadata": {
        "colab": {
          "base_uri": "https://localhost:8080/"
        },
        "id": "KlHuhhDkOKxN",
        "outputId": "050f5040-2ad6-425d-cca8-84222eff8628"
      },
      "execution_count": 10,
      "outputs": [
        {
          "output_type": "execute_result",
          "data": {
            "text/plain": [
              "3"
            ]
          },
          "metadata": {},
          "execution_count": 10
        }
      ]
    },
    {
      "cell_type": "code",
      "source": [
        "y = int(2.8)"
      ],
      "metadata": {
        "id": "c-RSgsqPONCI"
      },
      "execution_count": 11,
      "outputs": []
    },
    {
      "cell_type": "markdown",
      "source": [
        "**ANSWER : (A)13//5 output: 2.6**"
      ],
      "metadata": {
        "id": "0tdlrIjuORSf"
      }
    },
    {
      "cell_type": "markdown",
      "source": [
        "**8. What does the following Python program fragment do?**\n",
        "s=0\n",
        "for i in range (3,11) :\n",
        "  s+=i\n",
        "print (s)\n",
        "(A) Calculate the sum of 1+2+…+10\n",
        "\n",
        "(B) Calculate the sum of 1+4+7+10\n",
        "\n",
        "(C) Calculate the sum of 3+4+5+6+…+9\n",
        "\n",
        "(D) Calculate the sum of 3+4+5+6+…+10\n",
        "\n",
        "(E) Calculate the sum of 0+2+4+6+…+10"
      ],
      "metadata": {
        "id": "ma9SVcaHOU28"
      }
    },
    {
      "cell_type": "code",
      "source": [
        "s=0\n",
        "for i in range (3,11) :\n",
        "  s+=i\n",
        "print (s)"
      ],
      "metadata": {
        "colab": {
          "base_uri": "https://localhost:8080/"
        },
        "id": "VeX0LnYJOa9G",
        "outputId": "344c830f-2631-4c35-bba1-c70f32fc0446"
      },
      "execution_count": 12,
      "outputs": [
        {
          "output_type": "stream",
          "name": "stdout",
          "text": [
            "52\n"
          ]
        }
      ]
    },
    {
      "cell_type": "markdown",
      "source": [
        "**ANSWER : (D) Calculate the sum of 3+4+5+6+…+10**"
      ],
      "metadata": {
        "id": "hWu0p6GMOeGz"
      }
    },
    {
      "cell_type": "markdown",
      "source": [
        "**9. What is the output of this code in Python?**"
      ],
      "metadata": {
        "id": "xynmOdV-Ofna"
      }
    },
    {
      "cell_type": "code",
      "source": [
        "a = \"Hello, World!\"\n",
        "print(a[2:5]+ a[3:8])"
      ],
      "metadata": {
        "colab": {
          "base_uri": "https://localhost:8080/"
        },
        "id": "iZMmKoB6OlA_",
        "outputId": "fddced5f-aee1-4557-c2b4-22f910f7c47c"
      },
      "execution_count": 13,
      "outputs": [
        {
          "output_type": "stream",
          "name": "stdout",
          "text": [
            "llolo, W\n"
          ]
        }
      ]
    },
    {
      "cell_type": "markdown",
      "source": [
        "llolo, W\n",
        "(A) W llolo,\n",
        "\n",
        "(B) llolo,Wo\n",
        "\n",
        "(C) llolo, W\n",
        "\n",
        "(D) llolo,Wor\n",
        "\n",
        "a = \"Hello, World!\"\n",
        "print(a[2:5]+ a[3:8])\n",
        "\n",
        "**ANSWER : (C) llolo, W**"
      ],
      "metadata": {
        "id": "EBaZUQ19OswL"
      }
    },
    {
      "cell_type": "markdown",
      "source": [
        "11. What is the output of this code in Python?\n",
        "list = [ ' a ' ,  ' b ' ,  ' c ' ,  ' d ' ,  ' e ' ]\n",
        "print (list [ 1 : ])\n",
        "(A) [ ]\n",
        "\n",
        "(B) [ 'b' ]\n",
        "\n",
        "(C) [ 'a' , 'b' ]"
      ],
      "metadata": {
        "id": "Xr-ftMm8OxJK"
      }
    },
    {
      "cell_type": "code",
      "source": [
        "list = [ ' a ' ,  ' b ' ,  ' c ' ,  ' d ' ,  ' e ' ]\n",
        "print (list [ 1 : ])"
      ],
      "metadata": {
        "colab": {
          "base_uri": "https://localhost:8080/"
        },
        "id": "x7SRCACTO2-R",
        "outputId": "f06f3bbc-6fc2-48cb-8690-0b97ba0ba2a0"
      },
      "execution_count": 14,
      "outputs": [
        {
          "output_type": "stream",
          "name": "stdout",
          "text": [
            "[' b ', ' c ', ' d ', ' e ']\n"
          ]
        }
      ]
    },
    {
      "cell_type": "markdown",
      "source": [
        "**ANSWER : (D) [ 'b' , 'c' , 'd' , 'e' ]**"
      ],
      "metadata": {
        "id": "acC41EGDO6Gm"
      }
    },
    {
      "cell_type": "markdown",
      "source": [
        "**12. What is the output of this code in Python?**\n",
        "L1 = [ ]\n",
        "L1.append ( [1, [2, 3], 4] )\n",
        "L1.extend ( [7, 8, 9] )\n",
        "print(L1[0][1][1] + L1[2] )\n",
        "(A) 3\n",
        "\n",
        "(B) 8\n",
        "\n",
        "(C) 11\n",
        "\n",
        "(D) 38\n",
        "\n",
        "(E) None of these"
      ],
      "metadata": {
        "id": "IAlnI-irO94U"
      }
    },
    {
      "cell_type": "code",
      "source": [
        "L1 = [ ]\n",
        "L1.append ( [1, [2, 3], 4] )\n",
        "L1.extend ( [7, 8, 9] )\n",
        "print(L1[0][1][1] + L1[2] )"
      ],
      "metadata": {
        "colab": {
          "base_uri": "https://localhost:8080/"
        },
        "id": "pQp_iKgmPAJM",
        "outputId": "a6d6b3ed-64b6-43b0-e105-ba313899ce5f"
      },
      "execution_count": 15,
      "outputs": [
        {
          "output_type": "stream",
          "name": "stdout",
          "text": [
            "11\n"
          ]
        }
      ]
    },
    {
      "cell_type": "markdown",
      "source": [
        "**ANSWER : (C) 11**\n",
        "\n",
        "**13. Check if \"free\" is present in the following text**\n",
        "txt = \"The best things in life are free!\"\n",
        "print(\"free\"______txt)\n",
        "Which is the correct answer?\n",
        "\n",
        "(A) on\n",
        "\n",
        "(B) with\n",
        "\n",
        "(C) at\n",
        "\n",
        "(D) in"
      ],
      "metadata": {
        "id": "IpMTw2xvPFwG"
      }
    },
    {
      "cell_type": "code",
      "source": [
        "txt = \"The best things in life are free!\"\n",
        "print(\"free\" in txt)"
      ],
      "metadata": {
        "colab": {
          "base_uri": "https://localhost:8080/"
        },
        "id": "4d-MyvWfPYqW",
        "outputId": "ccea47fe-bcaf-4227-c9e9-a2c97f89dad8"
      },
      "execution_count": 16,
      "outputs": [
        {
          "output_type": "stream",
          "name": "stdout",
          "text": [
            "True\n"
          ]
        }
      ]
    },
    {
      "cell_type": "markdown",
      "source": [
        "**ANSWER : (D) in**"
      ],
      "metadata": {
        "id": "7XOPbH0qPdOw"
      }
    },
    {
      "cell_type": "markdown",
      "source": [
        "**14. Which of the following conditions correctly describes the output of this code in Python**?\n",
        "first = [1 , 2 , 3 , 4 , 5]\n",
        "second = first\n",
        "second.append (6)\n",
        "print (first)\n",
        "print (second)\n",
        "(A) first=[1, 2, 3, 4, 5], second=[1, 2, 3, 4, 5, 6]\n",
        "\n",
        "(B) first=[1, 2, 3, 4, 5, 6], second=[1, 2, 3, 4, 5]\n",
        "\n",
        "(C) first=[1, 2, 3, 4, 5], second=[1, 2, 3, 4, 5]\n",
        "\n",
        "(D) first=[1, 2, 3, 4, 5, 6], second=[1, 2, 3, 4, 5, 6]\n",
        "\n",
        "(E) None of these"
      ],
      "metadata": {
        "id": "jxX93HpCPecX"
      }
    },
    {
      "cell_type": "code",
      "source": [
        "first = [1 , 2 , 3 , 4 , 5]\n",
        "second = first\n",
        "second.append (6)\n",
        "print (first)\n",
        "print (second)"
      ],
      "metadata": {
        "colab": {
          "base_uri": "https://localhost:8080/"
        },
        "id": "eKIS9BjmPicK",
        "outputId": "0a6403ce-68ee-4332-c541-5150a571cf8a"
      },
      "execution_count": 17,
      "outputs": [
        {
          "output_type": "stream",
          "name": "stdout",
          "text": [
            "[1, 2, 3, 4, 5, 6]\n",
            "[1, 2, 3, 4, 5, 6]\n"
          ]
        }
      ]
    },
    {
      "cell_type": "markdown",
      "source": [
        "**ANSWER : (D) first=[1, 2, 3, 4, 5, 6], second=[1, 2, 3, 4, 5, 6]**"
      ],
      "metadata": {
        "id": "588q5SG2PliE"
      }
    },
    {
      "cell_type": "markdown",
      "source": [
        "**18. Which one of the codes will output**\n",
        "['apple', 'orange', 'banana', 'cherry']  ?\n",
        "\n",
        "mylist = [\"apple\", \"banana\", \"cherry\"]\n",
        "\n",
        "print(mylist)\n",
        "(A)mylist.append(\"orange\")\n",
        "\n",
        "(B)mylist.insert(0, \"orange\")\n",
        "\n",
        "(C)mylist.insert(1, \"orange\")\n",
        "\n",
        "(D)mylist.insert(2, \"orange\")"
      ],
      "metadata": {
        "id": "7uM4q5iYPpqN"
      }
    },
    {
      "cell_type": "code",
      "source": [
        "['apple', 'orange', 'banana', 'cherry']\n",
        "mylist = [\"apple\", \"banana\", \"cherry\"]\n",
        "mylist.insert(1, \"orange\")  \n",
        "print(mylist)"
      ],
      "metadata": {
        "colab": {
          "base_uri": "https://localhost:8080/"
        },
        "id": "poYEf-2BPt-A",
        "outputId": "c8241d49-9376-463e-b2b6-be9754094be7"
      },
      "execution_count": 18,
      "outputs": [
        {
          "output_type": "stream",
          "name": "stdout",
          "text": [
            "['apple', 'orange', 'banana', 'cherry']\n"
          ]
        }
      ]
    },
    {
      "cell_type": "markdown",
      "source": [
        "**ANSWER : (C)mylist.insert(1, \"orange\")**"
      ],
      "metadata": {
        "id": "yFw6yFWVPz75"
      }
    },
    {
      "cell_type": "markdown",
      "source": [
        "**21. What is the output of this code in Python?**\n",
        "i = 1\n",
        "while i < 6:\n",
        "  print(i)\n",
        "  if (i == 3):\n",
        "    break\n",
        "  i += 1\n",
        "(A)\n",
        "\n",
        "1\n",
        "\n",
        "2\n",
        "\n",
        "3\n",
        "\n",
        "(B)\n",
        "\n",
        "1\n",
        "\n",
        "2\n",
        "\n",
        "4\n",
        "\n",
        "5\n",
        "\n",
        "6\n",
        "\n",
        "(C)\n",
        "\n",
        "1\n",
        "\n",
        "2\n",
        "\n",
        "3\n",
        "\n",
        "4\n",
        "\n",
        "5\n",
        "\n",
        "6\n",
        "\n",
        "(D)\n",
        "\n",
        "4\n",
        "\n",
        "5\n",
        "\n",
        "6"
      ],
      "metadata": {
        "id": "iC0hcedjP1mN"
      }
    },
    {
      "cell_type": "code",
      "source": [
        "i = 1\n",
        "while i < 6:\n",
        "  print(i)\n",
        "  if (i == 3):\n",
        "    break\n",
        "  i += 1"
      ],
      "metadata": {
        "colab": {
          "base_uri": "https://localhost:8080/"
        },
        "id": "NZ7VBKShP5wR",
        "outputId": "5a4bc488-85d3-4cda-df1b-fbae534a3e28"
      },
      "execution_count": 19,
      "outputs": [
        {
          "output_type": "stream",
          "name": "stdout",
          "text": [
            "1\n",
            "2\n",
            "3\n"
          ]
        }
      ]
    },
    {
      "cell_type": "markdown",
      "source": [
        "**ANSWER : (A) 1 2 3**"
      ],
      "metadata": {
        "id": "E7pFFgxCP7qs"
      }
    },
    {
      "cell_type": "markdown",
      "source": [
        "**22. What is the output of this code in Python?**\n",
        "i = 0\n",
        "while i < 6:\n",
        "  i += 1\n",
        "  if i == 3:\n",
        "    continue\n",
        "  print(i)\n",
        "(A)\n",
        "\n",
        "1\n",
        "\n",
        "2\n",
        "\n",
        "3\n",
        "\n",
        "(B)\n",
        "\n",
        "1\n",
        "\n",
        "2\n",
        "\n",
        "4\n",
        "\n",
        "5\n",
        "\n",
        "6\n",
        "\n",
        "(C)\n",
        "\n",
        "1\n",
        "\n",
        "2\n",
        "\n",
        "3\n",
        "\n",
        "4\n",
        "\n",
        "5\n",
        "\n",
        "6\n",
        "\n",
        "(D)\n",
        "\n",
        "4\n",
        "\n",
        "5\n",
        "\n",
        "6"
      ],
      "metadata": {
        "id": "JVVUfBQKP933"
      }
    },
    {
      "cell_type": "code",
      "source": [
        "i = 0\n",
        "while i < 6:\n",
        "  i += 1\n",
        "  if i == 3:\n",
        "    continue\n",
        "  print(i)"
      ],
      "metadata": {
        "colab": {
          "base_uri": "https://localhost:8080/"
        },
        "id": "7aoIJsj9QBjU",
        "outputId": "d74546b6-263b-43e7-fc09-2c4c448ab1aa"
      },
      "execution_count": 20,
      "outputs": [
        {
          "output_type": "stream",
          "name": "stdout",
          "text": [
            "1\n",
            "2\n",
            "4\n",
            "5\n",
            "6\n"
          ]
        }
      ]
    },
    {
      "cell_type": "markdown",
      "source": [
        "**ANSWER : (B) 1 2 4 5 6**"
      ],
      "metadata": {
        "id": "0mwPZ-lTQJKH"
      }
    },
    {
      "cell_type": "markdown",
      "source": [
        "**24. What is the output of this code in python?**\n",
        "r = lambda q: q * 2\n",
        "s = lambda q: q * 3\n",
        "x = 2\n",
        "x = r (x)\n",
        "x = s (x)\n",
        "x = r (x)\n",
        "print (x)\n",
        "\n",
        "(A) 2\n",
        "\n",
        "(B) 4\n",
        "\n",
        "(C) 6\n",
        "\n",
        "(D) 12\n",
        "\n",
        "(E) 24"
      ],
      "metadata": {
        "id": "cKayEum1QK4V"
      }
    },
    {
      "cell_type": "code",
      "source": [
        "r = lambda q: q * 2\n",
        "s = lambda q: q * 3\n",
        "x = 2\n",
        "x = r (x)\n",
        "x = s (x)\n",
        "x = r (x)\n",
        "print (x)"
      ],
      "metadata": {
        "colab": {
          "base_uri": "https://localhost:8080/"
        },
        "id": "uJ6iid7WQOFt",
        "outputId": "7ae38d11-b8a6-4bb9-d302-6755738684cc"
      },
      "execution_count": 21,
      "outputs": [
        {
          "output_type": "stream",
          "name": "stdout",
          "text": [
            "24\n"
          ]
        }
      ]
    },
    {
      "cell_type": "markdown",
      "source": [
        "**ANSWER : (E) 24**"
      ],
      "metadata": {
        "id": "t4U-6EErQR0Y"
      }
    },
    {
      "cell_type": "markdown",
      "source": [
        "**25. A recursive function is defined as below:**\n",
        "def tri_recursion(k):\n",
        "  if(k > 0):\n",
        "    result = k + tri_recursion(k - 1)\n",
        "    print(result)\n",
        "  else:\n",
        "    result = 0\n",
        "What Is The Last Line Of The Output When tri_recursion(6) is executed?\n",
        "\n",
        "(A) 6\n",
        "\n",
        "(B) 10\n",
        "\n",
        "(C) 15\n",
        "\n",
        "(D) 21\n",
        "\n",
        "(E) 28"
      ],
      "metadata": {
        "id": "zIOJ7I7AQSz3"
      }
    },
    {
      "cell_type": "code",
      "source": [
        "def tri_recursion(k):\n",
        "  if(k > 0):\n",
        "    result = k + tri_recursion(k - 1)\n",
        "    print(result)\n",
        "  else:\n",
        "    result = 0\n",
        "  return result\n",
        "\n",
        "print(\"\\n\\nRecursion  Results\")\n",
        "tri_recursion(6)"
      ],
      "metadata": {
        "colab": {
          "base_uri": "https://localhost:8080/"
        },
        "id": "WenmGAGlQXaK",
        "outputId": "4f043550-6ff2-414c-8b05-1c241606797d"
      },
      "execution_count": 22,
      "outputs": [
        {
          "output_type": "stream",
          "name": "stdout",
          "text": [
            "\n",
            "\n",
            "Recursion  Results\n",
            "1\n",
            "3\n",
            "6\n",
            "10\n",
            "15\n",
            "21\n"
          ]
        },
        {
          "output_type": "execute_result",
          "data": {
            "text/plain": [
              "21"
            ]
          },
          "metadata": {},
          "execution_count": 22
        }
      ]
    },
    {
      "cell_type": "markdown",
      "source": [
        "**ANSWER : (D) 21**"
      ],
      "metadata": {
        "id": "C50V2UzVQc_w"
      }
    }
  ]
}