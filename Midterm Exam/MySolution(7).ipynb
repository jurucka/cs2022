{
  "nbformat": 4,
  "nbformat_minor": 0,
  "metadata": {
    "colab": {
      "provenance": []
    },
    "kernelspec": {
      "name": "python3",
      "display_name": "Python 3"
    },
    "language_info": {
      "name": "python"
    }
  },
  "cells": [
    {
      "cell_type": "markdown",
      "source": [
        "*Kun Shan University Computer Science Midterm*"
      ],
      "metadata": {
        "id": "X41aUyHd4iTv"
      }
    },
    {
      "cell_type": "markdown",
      "source": [
        "Name: 尤里卡 ID: 4110E212"
      ],
      "metadata": {
        "id": "ytT_3fOJ4nem"
      }
    },
    {
      "cell_type": "markdown",
      "source": [
        "# **1**"
      ],
      "metadata": {
        "id": "mWLAHiZK486u"
      }
    },
    {
      "cell_type": "markdown",
      "source": [
        "What can Python do?\n",
        "\n",
        "(A)Python can be used on a server to create web applications.\n",
        "\n",
        "(B)Python can be used alongside software to create workflows.\n",
        "\n",
        "(C)Python can connect to database systems. It can also read and modify files.\n",
        "\n",
        "(D)Python can be used to handle big data and perform complex mathematics."
      ],
      "metadata": {
        "id": "8UEbaIfD5BFe"
      }
    },
    {
      "cell_type": "markdown",
      "source": [
        "answer: (https:///www.w3schools.com/python/python_intro.asp)"
      ],
      "metadata": {
        "id": "dE7atXJj5H82"
      }
    },
    {
      "cell_type": "markdown",
      "source": [
        "(A)Python can be used on a server to create web applications.\n",
        "\n",
        "(B)Python can be used alongside software to create workflows.\n",
        "\n",
        "(C)Python can connect to database systems. It can also read and modify files.\n",
        "\n",
        "(D)Python can be used to handle big data and perform complex mathematics.\n"
      ],
      "metadata": {
        "id": "a9qPopRX5SyV"
      }
    },
    {
      "cell_type": "markdown",
      "source": [
        "# ****2****"
      ],
      "metadata": {
        "id": "-Itac6Ls53-t"
      }
    },
    {
      "cell_type": "markdown",
      "source": [
        "Python uses __________ to indicate a block of code\n",
        "(A) [] (B){}  (C) ()  (D) indentation"
      ],
      "metadata": {
        "id": "mh2T7F6D5hBF"
      }
    },
    {
      "cell_type": "markdown",
      "source": [
        "answer: (https://www.w3schools.com/python/python_syntax.asp)"
      ],
      "metadata": {
        "id": "PJ3KKtlj5h5E"
      }
    },
    {
      "cell_type": "markdown",
      "source": [
        "(D)Python uses indentation to indicate a block of code."
      ],
      "metadata": {
        "id": "m21D-sdv5p8u"
      }
    },
    {
      "cell_type": "markdown",
      "source": [
        "# 3"
      ],
      "metadata": {
        "id": "W1CkRaxq5uXd"
      }
    },
    {
      "cell_type": "markdown",
      "source": [
        "Python has commenting capability for the purpose of in-code documentation. Comments start with a  __________\n",
        "(A)A  (B) # (C) /  (D)&"
      ],
      "metadata": {
        "id": "kSnX0sa46IeO"
      }
    },
    {
      "cell_type": "markdown",
      "source": [
        "answer:(https://www.w3schools.com/python/python_comments.asp)"
      ],
      "metadata": {
        "id": "Tm_aeLnS6Owk"
      }
    },
    {
      "cell_type": "markdown",
      "source": [
        "(B) # Comments starts with a #, and Python will ignore them"
      ],
      "metadata": {
        "id": "C9tlvcR76Umt"
      }
    },
    {
      "cell_type": "markdown",
      "source": [
        "## **10**"
      ],
      "metadata": {
        "id": "Bv3nOOqv6XNG"
      }
    },
    {
      "cell_type": "markdown",
      "source": [
        "Which function can returns the length of a string?\n",
        "a = \"Hello, Pythonian!\"\n",
        "print(_________)\n",
        "(A) len(a)  (B) length(a)   (C) count(a)  (D)  num(a)"
      ],
      "metadata": {
        "id": "xA_S12SG6oVG"
      }
    },
    {
      "cell_type": "markdown",
      "source": [
        "answer:(https://www.w3schools.com/python/gloss_python_string_length.asp\\)"
      ],
      "metadata": {
        "id": "OAYLxgas6use"
      }
    },
    {
      "cell_type": "markdown",
      "source": [
        "a = \"Hello, Pythonian!\"\n",
        "\n",
        "print(len(a))\n",
        "\n",
        "(A) len(a)"
      ],
      "metadata": {
        "id": "3NdOO3eR6xzF"
      }
    },
    {
      "cell_type": "markdown",
      "source": [
        "## **15**"
      ],
      "metadata": {
        "id": "mKMNlmIB637m"
      }
    },
    {
      "cell_type": "markdown",
      "source": [
        "Python has a set of built-in methods that you can use on strings. Which method can converts string into lower case ?\n",
        "(A)capitalize()     (B) casefold()     (C) lower()  (D)expandtabs()"
      ],
      "metadata": {
        "id": "3h0mrW8g666Y"
      }
    },
    {
      "cell_type": "markdown",
      "source": [
        "answer:(https://www.w3schools.com/python/ref_string_casefold.asp)"
      ],
      "metadata": {
        "id": "O-k_X8mL69ns"
      }
    },
    {
      "cell_type": "markdown",
      "source": [
        "(B) casefold(), (C) lower()"
      ],
      "metadata": {
        "id": "D0fw-VZN7JHk"
      }
    },
    {
      "cell_type": "markdown",
      "source": [
        "## **16**"
      ],
      "metadata": {
        "id": "u_5N2fKE7K-c"
      }
    },
    {
      "cell_type": "markdown",
      "source": [
        "Python Booleans\n",
        "\n",
        "Which one of the following statements is wrong?\n",
        "\n",
        "(A) Booleans represent one of two values: True or False.\n",
        "\n",
        "(B) The bool() function allows you to evaluate any value, and give you True or False in return, \n",
        "\n",
        "(C) print(10 > 9) will output True \n",
        " \n",
        "(D) print(10 = 9) will output True\n",
        "\n",
        "\n",
        "\n"
      ],
      "metadata": {
        "id": "G9efsjSd7NQb"
      }
    },
    {
      "cell_type": "markdown",
      "source": [
        "answer:(https://www.w3schools.com/python/python_booleans.asp)"
      ],
      "metadata": {
        "id": "1FmPA0vU7U0V"
      }
    },
    {
      "cell_type": "markdown",
      "source": [
        "(D) print(10 = 9) will output True"
      ],
      "metadata": {
        "id": "3n7Lckc37ZuX"
      }
    },
    {
      "cell_type": "markdown",
      "source": [
        "## **17**"
      ],
      "metadata": {
        "id": "eCceKrY77bpF"
      }
    },
    {
      "cell_type": "markdown",
      "source": [
        "Python Lists\n",
        "\n",
        "Which of the following statements is wrong?\n",
        "\n",
        "(A) Lists are used to store multiple items in a single variable.\n",
        "\n",
        "(B) Lists are created using square brackets \n",
        "\n",
        "(C) List items are ordered, changeable, and allow duplicate values. \n",
        "\n",
        "(D) Lists can not have items with the same value"
      ],
      "metadata": {
        "id": "lMNz6zn77hyM"
      }
    },
    {
      "cell_type": "markdown",
      "source": [
        "answer:(https://www.w3schools.com/python/python_lists.asp)"
      ],
      "metadata": {
        "id": "17jvr2hX7lMX"
      }
    },
    {
      "cell_type": "markdown",
      "source": [
        "(D) Lists can not have items with the same value"
      ],
      "metadata": {
        "id": "SYJO-Dp-7qy1"
      }
    },
    {
      "cell_type": "markdown",
      "source": [
        "## **19**"
      ],
      "metadata": {
        "id": "NCKvvOuC7vid"
      }
    },
    {
      "cell_type": "markdown",
      "source": [
        "Python has a set of built-in methods that you can use on dictionaries. Which statements are correct ?\n",
        "\n",
        "(A) clear() will removes all the elements from the dictionary\n",
        "\n",
        "(B) copy() will returns a copy of the dictionary \n",
        "\n",
        "(C) items() will returns a list containing a tuple for each key value pair  \n",
        "\n",
        "(D) popitem()\twill removes the last inserted key-value pair"
      ],
      "metadata": {
        "id": "6z8SZEbV73u2"
      }
    },
    {
      "cell_type": "markdown",
      "source": [
        "answer:(https://www.w3schools.com/python/python_ref_dictionary.asp)"
      ],
      "metadata": {
        "id": "ebtNHYf177Pn"
      }
    },
    {
      "cell_type": "markdown",
      "source": [
        "(A)clear()\tRemoves all the elements from the dictionary\n",
        "\n",
        "(B)copy()\tReturns a copy of the dictionary\n",
        "\n",
        "(C)items()\tReturns a list containing a tuple for each key value pair\n",
        "\n",
        "(D)popitem()\tRemoves the last inserted key-value pair"
      ],
      "metadata": {
        "id": "iXVLK_8I8Afk"
      }
    },
    {
      "cell_type": "markdown",
      "source": [
        "## **20**"
      ],
      "metadata": {
        "id": "mptyrJ-C8Om-"
      }
    },
    {
      "cell_type": "markdown",
      "source": [
        "Python supports the usual logical conditions from mathematics:\n",
        "\n",
        "Which statements are correct ?\n",
        "\n",
        "(A)Equals: a = b\n",
        "\n",
        "(B)Not Equals: a != b\n",
        "\n",
        "(C)Less than or equal to: a <= b\n",
        "\n",
        "(D)Greater than: a > b"
      ],
      "metadata": {
        "id": "ZKqbebb98QL8"
      }
    },
    {
      "cell_type": "markdown",
      "source": [
        "answer:(https://www.w3schools.com/python/python_operators.asp)"
      ],
      "metadata": {
        "id": "iPkDEglY8VSd"
      }
    },
    {
      "cell_type": "markdown",
      "source": [
        "(B)Not Equals: a != b\n",
        "\n",
        "(C)Less than or equal to: a <= b\n",
        "\n",
        "(D)Greater than: a > b"
      ],
      "metadata": {
        "id": "7MKcGR-X8bF1"
      }
    },
    {
      "cell_type": "markdown",
      "source": [
        "## **23**"
      ],
      "metadata": {
        "id": "kMCYqlWQ8dtt"
      }
    },
    {
      "cell_type": "markdown",
      "source": [
        "If the function \n",
        "\n",
        "int volume (int x = 1, int y = 1, int z = 1); \n",
        "\n",
        "is called by the expression volume (7,8), how many default arguments are used?\n",
        "\n",
        "(A) None  (B) One  (C) Two  (D) Three\n",
        "\n",
        "(E) It depends on the runtime environment."
      ],
      "metadata": {
        "id": "I5epowmq8gFE"
      }
    },
    {
      "cell_type": "markdown",
      "source": [
        "answer:(https://www.programiz.com/python-programming/function-argument)"
      ],
      "metadata": {
        "id": "0af-CWJm8lZ9"
      }
    },
    {
      "cell_type": "markdown",
      "source": [
        "(C) Two"
      ],
      "metadata": {
        "id": "3MglhV-E8qOW"
      }
    }
  ]
}