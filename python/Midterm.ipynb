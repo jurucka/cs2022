{
  "nbformat": 4,
  "nbformat_minor": 0,
  "metadata": {
    "colab": {
      "provenance": [],
      "collapsed_sections": []
    },
    "kernelspec": {
      "name": "python3",
      "display_name": "Python 3"
    },
    "language_info": {
      "name": "python"
    }
  },
  "cells": [
    {
      "cell_type": "code",
      "source": [
        "def f(n):\n",
        "  if n == 0:\n",
        "    return 0\n",
        "  else:\n",
        "    return f(n-1) + n\n",
        "\n",
        "f(10)"
      ],
      "metadata": {
        "colab": {
          "base_uri": "https://localhost:8080/"
        },
        "id": "s-oj5WpP5vUa",
        "outputId": "c7caf595-f960-44b1-8898-f3f33853be1d"
      },
      "execution_count": null,
      "outputs": [
        {
          "output_type": "execute_result",
          "data": {
            "text/plain": [
              "55"
            ]
          },
          "metadata": {},
          "execution_count": 4
        }
      ]
    },
    {
      "cell_type": "code",
      "source": [
        "def f(n):\n",
        "    if (n == 0):\n",
        "        return 0;\n",
        " \n",
        "    a = 0;\n",
        "    for i in range(1, n + 1):\n",
        "        a = a + i;\n",
        " \n",
        "    return a;\n",
        "print(f(10))"
      ],
      "metadata": {
        "colab": {
          "base_uri": "https://localhost:8080/"
        },
        "id": "m_U3rfROLEq1",
        "outputId": "b220bc56-71fa-4630-fef7-c02e25e99cd0"
      },
      "execution_count": null,
      "outputs": [
        {
          "output_type": "stream",
          "name": "stdout",
          "text": [
            "55\n"
          ]
        }
      ]
    },
    {
      "cell_type": "code",
      "source": [
        "def f(n):\n",
        "  if n == 1:\n",
        "    return 1\n",
        "  else:\n",
        "    return (f(n-1) * n)\n",
        "\n",
        "print(f(10))"
      ],
      "metadata": {
        "colab": {
          "base_uri": "https://localhost:8080/"
        },
        "id": "fFZpHBSgFcSP",
        "outputId": "784019f3-c541-4c9e-8605-bb636940331f"
      },
      "execution_count": null,
      "outputs": [
        {
          "output_type": "stream",
          "name": "stdout",
          "text": [
            "3628800\n"
          ]
        }
      ]
    },
    {
      "cell_type": "code",
      "source": [
        "def f(n):\n",
        "    if (n == 0):\n",
        "        return 0;\n",
        " \n",
        "    a = 1;\n",
        "    for i in range(1, n + 1):\n",
        "        a = a * i;\n",
        " \n",
        "    return a;\n",
        "print(f(10))"
      ],
      "metadata": {
        "colab": {
          "base_uri": "https://localhost:8080/"
        },
        "id": "Dgv-D978ETAe",
        "outputId": "df56e9ad-a0a8-4fdc-f8c5-d935e778d586"
      },
      "execution_count": null,
      "outputs": [
        {
          "output_type": "stream",
          "name": "stdout",
          "text": [
            "3628800\n"
          ]
        }
      ]
    },
    {
      "cell_type": "code",
      "source": [
        "def find_gcd(x, y):\n",
        "     \n",
        "    while(y):\n",
        "        x, y = y, x % y\n",
        "    return x\n",
        "a = 60\n",
        "b = 48\n",
        "print(f(60, 48))"
      ],
      "metadata": {
        "colab": {
          "base_uri": "https://localhost:8080/"
        },
        "id": "Zjuf0_-7LX3y",
        "outputId": "d27e0ebd-dcf0-4a1e-c282-f94f0c9c0715"
      },
      "execution_count": null,
      "outputs": [
        {
          "output_type": "stream",
          "name": "stdout",
          "text": [
            "12\n"
          ]
        }
      ]
    },
    {
      "cell_type": "code",
      "source": [
        "def f(a, b):\n",
        "    if(b == 0):\n",
        "        return abs(a)\n",
        "    else:\n",
        "        return f(b, a % b)\n",
        "a = 60\n",
        "b = 48\n",
        "print(f(60, 48))"
      ],
      "metadata": {
        "colab": {
          "base_uri": "https://localhost:8080/"
        },
        "id": "OgwPI3pEx_2t",
        "outputId": "62c7f091-b307-4962-a411-b769283e284c"
      },
      "execution_count": null,
      "outputs": [
        {
          "output_type": "stream",
          "name": "stdout",
          "text": [
            "12\n"
          ]
        }
      ]
    }
  ]
}