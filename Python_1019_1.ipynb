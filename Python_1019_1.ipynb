{
  "nbformat": 4,
  "nbformat_minor": 0,
  "metadata": {
    "colab": {
      "provenance": [],
      "collapsed_sections": []
    },
    "kernelspec": {
      "name": "python3",
      "display_name": "Python 3"
    },
    "language_info": {
      "name": "python"
    }
  },
  "cells": [
    {
      "cell_type": "markdown",
      "source": [
        "1019 Juricka \n",
        "\n",
        "Python Conditions and If statements\n",
        "\n",
        "Exercise 1 : Print \"Hello Python\" if a is greater than b.\n",
        "\n",
        "\n",
        "\n",
        "\n",
        "\n"
      ],
      "metadata": {
        "id": "qZHPkx9isn1P"
      }
    },
    {
      "cell_type": "code",
      "source": [
        "a = 28\n",
        "b = 20\n",
        "\n",
        "if  a > b\n",
        "  print(\"Hello python\")\n"
      ],
      "metadata": {
        "id": "I5kGK_bEtmpi"
      },
      "execution_count": null,
      "outputs": []
    },
    {
      "cell_type": "markdown",
      "source": [
        "Hello python"
      ],
      "metadata": {
        "id": "kZ3PVVgpt_pn"
      }
    },
    {
      "cell_type": "markdown",
      "source": [
        "Exercise:2\n",
        "\n",
        "Print \"Hello python\" if a is not equal to b."
      ],
      "metadata": {
        "id": "XNAwiSx9uaat"
      }
    },
    {
      "cell_type": "code",
      "source": [
        "a = 28\n",
        "b = 20\n",
        " \n",
        " if a!= b\n",
        "  print(\"Hello python\")"
      ],
      "metadata": {
        "id": "MG64u9ROuncX"
      },
      "execution_count": null,
      "outputs": []
    },
    {
      "cell_type": "markdown",
      "source": [
        "Hello python"
      ],
      "metadata": {
        "id": "I74D-LMLvksc"
      }
    },
    {
      "cell_type": "markdown",
      "source": [
        "Exercise:3\n",
        "\n",
        "Print \"Yes\" if a is equal to b, otherwise print \"No\""
      ],
      "metadata": {
        "id": "MFzIDNsowKtW"
      }
    },
    {
      "cell_type": "code",
      "source": [
        "a = 50\n",
        "b = 50\n",
        " if a == b\n",
        "  print(\"Yes\")\n",
        "\n",
        "  print(\"No\")"
      ],
      "metadata": {
        "id": "7q4LkqGnwSzl"
      },
      "execution_count": null,
      "outputs": []
    },
    {
      "cell_type": "markdown",
      "source": [
        "Yes \n"
      ],
      "metadata": {
        "id": "cP_jdC47wcSt"
      }
    },
    {
      "cell_type": "markdown",
      "source": [
        "Exercise:4\n",
        "\n",
        "Print \"ju\" if a is equal to b, print \"ke\" if a is greater than b, otherwise print \"la\"."
      ],
      "metadata": {
        "id": "mrmlQUXzwnMj"
      }
    },
    {
      "cell_type": "code",
      "source": [
        "a = 30\n",
        "b = 60\n",
        " if a < b\n",
        "  print(\"ju\")\n",
        " a  b\n",
        "  print(\"ke\")\n",
        "\n",
        "  print(\"la\")"
      ],
      "metadata": {
        "id": "_Dm8NLsLwo56"
      },
      "execution_count": null,
      "outputs": []
    },
    {
      "cell_type": "markdown",
      "source": [
        "ju"
      ],
      "metadata": {
        "id": "W58QCR_OxITn"
      }
    },
    {
      "cell_type": "markdown",
      "source": [
        "Exercise: 5\n",
        "\n",
        "Print \"Hello\" if a is equal to b, and c is equal to d.\n"
      ],
      "metadata": {
        "id": "Hu0pzpAAxdlX"
      }
    },
    {
      "cell_type": "code",
      "source": [
        "if a == b == c == d:\n",
        "  print(\"Hello\")"
      ],
      "metadata": {
        "id": "Jwnk7Tstxgv0"
      },
      "execution_count": null,
      "outputs": []
    },
    {
      "cell_type": "markdown",
      "source": [
        "Hello"
      ],
      "metadata": {
        "id": "p3JiC7RKxucz"
      }
    },
    {
      "cell_type": "markdown",
      "source": [
        "Exercise: 6\n",
        "\n",
        "Print \"Heyy\" if a is equal to b, or if c is equal to d."
      ],
      "metadata": {
        "id": "VaKKWnvyxyST"
      }
    },
    {
      "cell_type": "code",
      "source": [
        "if a == b == c == d:\n",
        "  print(\"Heyy\")"
      ],
      "metadata": {
        "id": "p194nH9nyLl5"
      },
      "execution_count": null,
      "outputs": []
    },
    {
      "cell_type": "markdown",
      "source": [
        "heyy"
      ],
      "metadata": {
        "id": "yPUsxUyMyWhP"
      }
    },
    {
      "cell_type": "markdown",
      "source": [
        "Exercise: 7\n",
        "\n",
        "This example misses indentations to be correct.\n",
        "\n",
        "Insert the missing indentation to make the code correct:"
      ],
      "metadata": {
        "id": "MwxtIVMvybTg"
      }
    },
    {
      "cell_type": "code",
      "source": [
        "if 5 > 2:\n",
        "print(\"Five is greater than two!\")"
      ],
      "metadata": {
        "id": "OchjrJ7Cy0OF"
      },
      "execution_count": null,
      "outputs": []
    },
    {
      "cell_type": "markdown",
      "source": [
        "Five is greater than two!"
      ],
      "metadata": {
        "id": "tAGsIaqhy_O9"
      }
    },
    {
      "cell_type": "markdown",
      "source": [
        "Exercise: 8\n",
        "\n",
        "Use the correct short hand syntax to put the following statement on one line:"
      ],
      "metadata": {
        "id": "U-OiFItNz72O"
      }
    },
    {
      "cell_type": "code",
      "source": [
        "if 5 > 2:\n",
        "print(\"Five is greater than two!\")\n",
        "\n"
      ],
      "metadata": {
        "id": "pmpX6Cec0Cra"
      },
      "execution_count": null,
      "outputs": []
    },
    {
      "cell_type": "markdown",
      "source": [
        "if 5 > 2: print (\"Five is greater than two!\")"
      ],
      "metadata": {
        "id": "9CZanfw201WW"
      }
    },
    {
      "cell_type": "markdown",
      "source": [
        "Exercise: 9\n",
        "\n",
        "Use the correct short hand syntax to write the following conditional expression in one line:"
      ],
      "metadata": {
        "id": "iaSI7l6h1Jvo"
      }
    },
    {
      "cell_type": "code",
      "source": [
        "if 20 > 5:\n",
        "  print(\"Yes\")\n",
        "else\n",
        "  print(\"No\")"
      ],
      "metadata": {
        "id": "YQegHral1M4T"
      },
      "execution_count": null,
      "outputs": []
    },
    {
      "cell_type": "markdown",
      "source": [
        "if 20 > 5: print(\"Yes\") else print(\"No\")"
      ],
      "metadata": {
        "id": "G8Jas4J71T_I"
      }
    }
  ]
}